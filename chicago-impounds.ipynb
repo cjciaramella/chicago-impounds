{
 "cells": [
  {
   "cell_type": "markdown",
   "metadata": {},
   "source": [
    "# Chicago Vehicle Impounds"
   ]
  },
  {
   "cell_type": "code",
   "execution_count": 1,
   "metadata": {
    "collapsed": true
   },
   "outputs": [],
   "source": [
    "# import libraries\n",
    "import pandas as pd\n",
    "import numpy as np\n",
    "import matplotlib.pyplot as plt\n",
    "\n",
    "%matplotlib inline"
   ]
  },
  {
   "cell_type": "code",
   "execution_count": 2,
   "metadata": {
    "collapsed": false
   },
   "outputs": [],
   "source": [
    "# read excel spreadsheet, pass to variable and peek at dataframe\n",
    "df = pd.read_excel('impounds.xlsx')"
   ]
  },
  {
   "cell_type": "code",
   "execution_count": 3,
   "metadata": {
    "collapsed": false
   },
   "outputs": [
    {
     "data": {
      "text/html": [
       "<div>\n",
       "<table border=\"1\" class=\"dataframe\">\n",
       "  <thead>\n",
       "    <tr style=\"text-align: right;\">\n",
       "      <th></th>\n",
       "      <th>Violation Description</th>\n",
       "      <th>Violation Address</th>\n",
       "      <th>Violation Date</th>\n",
       "      <th>Hearing Date</th>\n",
       "      <th>Disposition Description</th>\n",
       "      <th>Imposed Fine Detailed</th>\n",
       "    </tr>\n",
       "  </thead>\n",
       "  <tbody>\n",
       "    <tr>\n",
       "      <th>0</th>\n",
       "      <td>10-8-480(c) Littering on public way from a veh...</td>\n",
       "      <td>10540 S AVENUE G</td>\n",
       "      <td>2017-04-14</td>\n",
       "      <td>2017-05-18 00:00:00</td>\n",
       "      <td>VIP Liable - Default failure to request a hearing</td>\n",
       "      <td>150</td>\n",
       "    </tr>\n",
       "    <tr>\n",
       "      <th>1</th>\n",
       "      <td>10-8-480(c) Littering on public way from a veh...</td>\n",
       "      <td>11240 S BELL AVE</td>\n",
       "      <td>2017-10-17</td>\n",
       "      <td>2017-11-17 00:00:00</td>\n",
       "      <td>City non-suit</td>\n",
       "      <td>0</td>\n",
       "    </tr>\n",
       "    <tr>\n",
       "      <th>2</th>\n",
       "      <td>10-8-480(c) Littering on public way from a veh...</td>\n",
       "      <td>1438 W 63RD ST</td>\n",
       "      <td>2017-05-15</td>\n",
       "      <td>2017-06-23 00:00:00</td>\n",
       "      <td>City non-suit</td>\n",
       "      <td>0</td>\n",
       "    </tr>\n",
       "    <tr>\n",
       "      <th>3</th>\n",
       "      <td>10-8-480(c) Littering on public way from a veh...</td>\n",
       "      <td>1438 W 63RD ST</td>\n",
       "      <td>2017-05-15</td>\n",
       "      <td>2017-06-23 00:00:00</td>\n",
       "      <td>Liable - By plea</td>\n",
       "      <td>1000</td>\n",
       "    </tr>\n",
       "    <tr>\n",
       "      <th>4</th>\n",
       "      <td>10-8-480(c) Littering on public way from a veh...</td>\n",
       "      <td>1438 W 63RD ST</td>\n",
       "      <td>2017-07-31</td>\n",
       "      <td>2017-09-01 00:00:00</td>\n",
       "      <td>City non-suit</td>\n",
       "      <td>0</td>\n",
       "    </tr>\n",
       "  </tbody>\n",
       "</table>\n",
       "</div>"
      ],
      "text/plain": [
       "                               Violation Description  Violation Address  \\\n",
       "0  10-8-480(c) Littering on public way from a veh...  10540 S AVENUE G    \n",
       "1  10-8-480(c) Littering on public way from a veh...   11240 S BELL AVE   \n",
       "2  10-8-480(c) Littering on public way from a veh...     1438 W 63RD ST   \n",
       "3  10-8-480(c) Littering on public way from a veh...     1438 W 63RD ST   \n",
       "4  10-8-480(c) Littering on public way from a veh...     1438 W 63RD ST   \n",
       "\n",
       "  Violation Date         Hearing Date  \\\n",
       "0     2017-04-14  2017-05-18 00:00:00   \n",
       "1     2017-10-17  2017-11-17 00:00:00   \n",
       "2     2017-05-15  2017-06-23 00:00:00   \n",
       "3     2017-05-15  2017-06-23 00:00:00   \n",
       "4     2017-07-31  2017-09-01 00:00:00   \n",
       "\n",
       "                             Disposition Description Imposed Fine Detailed  \n",
       "0  VIP Liable - Default failure to request a hearing                   150  \n",
       "1                                      City non-suit                     0  \n",
       "2                                      City non-suit                     0  \n",
       "3                                   Liable - By plea                  1000  \n",
       "4                                      City non-suit                     0  "
      ]
     },
     "execution_count": 3,
     "metadata": {},
     "output_type": "execute_result"
    }
   ],
   "source": [
    "df.head()"
   ]
  },
  {
   "cell_type": "code",
   "execution_count": 4,
   "metadata": {
    "collapsed": false
   },
   "outputs": [
    {
     "data": {
      "text/plain": [
       "27582"
      ]
     },
     "execution_count": 4,
     "metadata": {},
     "output_type": "execute_result"
    }
   ],
   "source": [
    "# total number of violations charged\n",
    "len(df)"
   ]
  },
  {
   "cell_type": "code",
   "execution_count": 5,
   "metadata": {
    "collapsed": false
   },
   "outputs": [
    {
     "data": {
      "text/html": [
       "<div>\n",
       "<table border=\"1\" class=\"dataframe\">\n",
       "  <thead>\n",
       "    <tr style=\"text-align: right;\">\n",
       "      <th></th>\n",
       "      <th>index</th>\n",
       "      <th>Disposition Description</th>\n",
       "    </tr>\n",
       "  </thead>\n",
       "  <tbody>\n",
       "    <tr>\n",
       "      <th>0</th>\n",
       "      <td>VIP Liable - Default failure to request a hearing</td>\n",
       "      <td>10155</td>\n",
       "    </tr>\n",
       "    <tr>\n",
       "      <th>1</th>\n",
       "      <td>City non-suit</td>\n",
       "      <td>6997</td>\n",
       "    </tr>\n",
       "    <tr>\n",
       "      <th>2</th>\n",
       "      <td>City's motion to amend the charge(s) - Granted</td>\n",
       "      <td>2604</td>\n",
       "    </tr>\n",
       "    <tr>\n",
       "      <th>3</th>\n",
       "      <td>VIP Liable - Default failure to appear</td>\n",
       "      <td>1686</td>\n",
       "    </tr>\n",
       "    <tr>\n",
       "      <th>4</th>\n",
       "      <td>Liable - By contested finding</td>\n",
       "      <td>1538</td>\n",
       "    </tr>\n",
       "    <tr>\n",
       "      <th>5</th>\n",
       "      <td>Not liable - City failed to establish prima fa...</td>\n",
       "      <td>1341</td>\n",
       "    </tr>\n",
       "    <tr>\n",
       "      <th>6</th>\n",
       "      <td>Liable - By plea</td>\n",
       "      <td>450</td>\n",
       "    </tr>\n",
       "    <tr>\n",
       "      <th>7</th>\n",
       "      <td>VIP - No Probable Cause Found</td>\n",
       "      <td>404</td>\n",
       "    </tr>\n",
       "    <tr>\n",
       "      <th>8</th>\n",
       "      <td>City Non suit - Motion to set-aside default - ...</td>\n",
       "      <td>379</td>\n",
       "    </tr>\n",
       "    <tr>\n",
       "      <th>9</th>\n",
       "      <td>Default - Liable by prove-up</td>\n",
       "      <td>175</td>\n",
       "    </tr>\n",
       "    <tr>\n",
       "      <th>10</th>\n",
       "      <td>Not liable - City failed to meet burden of proof</td>\n",
       "      <td>144</td>\n",
       "    </tr>\n",
       "    <tr>\n",
       "      <th>11</th>\n",
       "      <td>Denied - Motion to set-aside Default - untimely</td>\n",
       "      <td>137</td>\n",
       "    </tr>\n",
       "    <tr>\n",
       "      <th>12</th>\n",
       "      <td>VIP - Non-suit:  Police Officer not in court</td>\n",
       "      <td>99</td>\n",
       "    </tr>\n",
       "    <tr>\n",
       "      <th>13</th>\n",
       "      <td>Dismissed for want of prosecution - No service</td>\n",
       "      <td>55</td>\n",
       "    </tr>\n",
       "    <tr>\n",
       "      <th>14</th>\n",
       "      <td>Case entry error</td>\n",
       "      <td>27</td>\n",
       "    </tr>\n",
       "    <tr>\n",
       "      <th>15</th>\n",
       "      <td>Liable - By Plea - Motion to set-aside default...</td>\n",
       "      <td>24</td>\n",
       "    </tr>\n",
       "    <tr>\n",
       "      <th>16</th>\n",
       "      <td>VIP - No Probable Cause Found - Vehicle Stolen</td>\n",
       "      <td>23</td>\n",
       "    </tr>\n",
       "    <tr>\n",
       "      <th>17</th>\n",
       "      <td>Denied - Motion to set aside denied - Prior de...</td>\n",
       "      <td>22</td>\n",
       "    </tr>\n",
       "    <tr>\n",
       "      <th>18</th>\n",
       "      <td>VIP  Liable - Hearing waived - Vehicle Surrend...</td>\n",
       "      <td>15</td>\n",
       "    </tr>\n",
       "    <tr>\n",
       "      <th>19</th>\n",
       "      <td>VIP Liable - Default hearing request untimely</td>\n",
       "      <td>13</td>\n",
       "    </tr>\n",
       "    <tr>\n",
       "      <th>20</th>\n",
       "      <td>Not liable - City failed to establish Prima Fa...</td>\n",
       "      <td>9</td>\n",
       "    </tr>\n",
       "    <tr>\n",
       "      <th>21</th>\n",
       "      <td>Respondent's motion to continue granted</td>\n",
       "      <td>9</td>\n",
       "    </tr>\n",
       "    <tr>\n",
       "      <th>22</th>\n",
       "      <td>Hearing Request Withdrawn</td>\n",
       "      <td>9</td>\n",
       "    </tr>\n",
       "    <tr>\n",
       "      <th>23</th>\n",
       "      <td>VIP - Hearing Request Denied - Untimely</td>\n",
       "      <td>9</td>\n",
       "    </tr>\n",
       "    <tr>\n",
       "      <th>24</th>\n",
       "      <td>Case continued for hearing - Motion to set-asi...</td>\n",
       "      <td>8</td>\n",
       "    </tr>\n",
       "    <tr>\n",
       "      <th>25</th>\n",
       "      <td>City's motion to continue - Granted</td>\n",
       "      <td>5</td>\n",
       "    </tr>\n",
       "    <tr>\n",
       "      <th>26</th>\n",
       "      <td>Denied - Motion to set-aside default - lack of...</td>\n",
       "      <td>3</td>\n",
       "    </tr>\n",
       "    <tr>\n",
       "      <th>27</th>\n",
       "      <td>VIP - Probable Cause Found/Case scheduled for ...</td>\n",
       "      <td>2</td>\n",
       "    </tr>\n",
       "    <tr>\n",
       "      <th>28</th>\n",
       "      <td>VIP - Default - Most Recent Registered Owner N...</td>\n",
       "      <td>1</td>\n",
       "    </tr>\n",
       "  </tbody>\n",
       "</table>\n",
       "</div>"
      ],
      "text/plain": [
       "                                                index  Disposition Description\n",
       "0   VIP Liable - Default failure to request a hearing                    10155\n",
       "1                                       City non-suit                     6997\n",
       "2      City's motion to amend the charge(s) - Granted                     2604\n",
       "3              VIP Liable - Default failure to appear                     1686\n",
       "4                       Liable - By contested finding                     1538\n",
       "5   Not liable - City failed to establish prima fa...                     1341\n",
       "6                                    Liable - By plea                      450\n",
       "7                       VIP - No Probable Cause Found                      404\n",
       "8   City Non suit - Motion to set-aside default - ...                      379\n",
       "9                        Default - Liable by prove-up                      175\n",
       "10   Not liable - City failed to meet burden of proof                      144\n",
       "11    Denied - Motion to set-aside Default - untimely                      137\n",
       "12       VIP - Non-suit:  Police Officer not in court                       99\n",
       "13     Dismissed for want of prosecution - No service                       55\n",
       "14                                   Case entry error                       27\n",
       "15  Liable - By Plea - Motion to set-aside default...                       24\n",
       "16     VIP - No Probable Cause Found - Vehicle Stolen                       23\n",
       "17  Denied - Motion to set aside denied - Prior de...                       22\n",
       "18  VIP  Liable - Hearing waived - Vehicle Surrend...                       15\n",
       "19      VIP Liable - Default hearing request untimely                       13\n",
       "20  Not liable - City failed to establish Prima Fa...                        9\n",
       "21            Respondent's motion to continue granted                        9\n",
       "22                          Hearing Request Withdrawn                        9\n",
       "23            VIP - Hearing Request Denied - Untimely                        9\n",
       "24  Case continued for hearing - Motion to set-asi...                        8\n",
       "25                City's motion to continue - Granted                        5\n",
       "26  Denied - Motion to set-aside default - lack of...                        3\n",
       "27  VIP - Probable Cause Found/Case scheduled for ...                        2\n",
       "28  VIP - Default - Most Recent Registered Owner N...                        1"
      ]
     },
     "execution_count": 5,
     "metadata": {},
     "output_type": "execute_result"
    }
   ],
   "source": [
    "# final disposition of cases\n",
    "df['Disposition Description'].value_counts().reset_index()"
   ]
  },
  {
   "cell_type": "code",
   "execution_count": 3,
   "metadata": {
    "collapsed": true
   },
   "outputs": [],
   "source": [
    "# convert strings in fines column to floats\n",
    "df['Imposed Fine Detailed'] = df['Imposed Fine Detailed'].astype(str).str.replace(\"$\", \"\").astype(float)"
   ]
  },
  {
   "cell_type": "code",
   "execution_count": 8,
   "metadata": {
    "collapsed": false
   },
   "outputs": [
    {
     "data": {
      "text/plain": [
       "17231000.0"
      ]
     },
     "execution_count": 8,
     "metadata": {},
     "output_type": "execute_result"
    }
   ],
   "source": [
    "# find total fines imposed\n",
    "df['Imposed Fine Detailed'].sum()"
   ]
  },
  {
   "cell_type": "code",
   "execution_count": 9,
   "metadata": {
    "collapsed": false
   },
   "outputs": [],
   "source": [
    "# group by violation and find sum fines\n",
    "fine_totals = df.groupby(['Violation Description']\n",
    "          )['Imposed Fine Detailed'].sum().reset_index().sort_values('Imposed Fine Detailed', ascending=False)"
   ]
  },
  {
   "cell_type": "code",
   "execution_count": 10,
   "metadata": {
    "collapsed": false
   },
   "outputs": [
    {
     "data": {
      "text/html": [
       "<div>\n",
       "<table border=\"1\" class=\"dataframe\">\n",
       "  <thead>\n",
       "    <tr style=\"text-align: right;\">\n",
       "      <th></th>\n",
       "      <th>Violation Description</th>\n",
       "      <th>Imposed Fine Detailed</th>\n",
       "    </tr>\n",
       "  </thead>\n",
       "  <tbody>\n",
       "    <tr>\n",
       "      <th>27</th>\n",
       "      <td>9-80-240  Vehicle operated by persons with sus...</td>\n",
       "      <td>10731100.0</td>\n",
       "    </tr>\n",
       "    <tr>\n",
       "      <th>11</th>\n",
       "      <td>7-24-225    Unlawful drugs in motor vehicle.</td>\n",
       "      <td>2656450.0</td>\n",
       "    </tr>\n",
       "    <tr>\n",
       "      <th>12</th>\n",
       "      <td>7-24-226    DUI</td>\n",
       "      <td>1965300.0</td>\n",
       "    </tr>\n",
       "    <tr>\n",
       "      <th>10</th>\n",
       "      <td>7-24-225    Unlawful drugs in motor vehicle wi...</td>\n",
       "      <td>517000.0</td>\n",
       "    </tr>\n",
       "    <tr>\n",
       "      <th>13</th>\n",
       "      <td>7-24-226    DUI within 500ft park/school</td>\n",
       "      <td>416000.0</td>\n",
       "    </tr>\n",
       "    <tr>\n",
       "      <th>26</th>\n",
       "      <td>9-80-220    Altered Temp Tag</td>\n",
       "      <td>324000.0</td>\n",
       "    </tr>\n",
       "    <tr>\n",
       "      <th>16</th>\n",
       "      <td>8-20-070  Unlawful firearm - Vehicle Impoundment</td>\n",
       "      <td>200150.0</td>\n",
       "    </tr>\n",
       "    <tr>\n",
       "      <th>30</th>\n",
       "      <td>9-92-035    Authority to impound fleeing vehicle.</td>\n",
       "      <td>127000.0</td>\n",
       "    </tr>\n",
       "    <tr>\n",
       "      <th>3</th>\n",
       "      <td>2-14-132(j)     Removal/Relocation of Vehicle ...</td>\n",
       "      <td>82500.0</td>\n",
       "    </tr>\n",
       "    <tr>\n",
       "      <th>17</th>\n",
       "      <td>8-20-070  Unlawful firearm within 500ft park/s...</td>\n",
       "      <td>69000.0</td>\n",
       "    </tr>\n",
       "    <tr>\n",
       "      <th>19</th>\n",
       "      <td>8-8-060    Street solicitation - VIP</td>\n",
       "      <td>41000.0</td>\n",
       "    </tr>\n",
       "    <tr>\n",
       "      <th>7</th>\n",
       "      <td>2-14-135   Investigation</td>\n",
       "      <td>35000.0</td>\n",
       "    </tr>\n",
       "    <tr>\n",
       "      <th>24</th>\n",
       "      <td>9-76-145    Sound device restrictions--Violati...</td>\n",
       "      <td>14500.0</td>\n",
       "    </tr>\n",
       "    <tr>\n",
       "      <th>28</th>\n",
       "      <td>9-92-030(h) - Insurance</td>\n",
       "      <td>11000.0</td>\n",
       "    </tr>\n",
       "    <tr>\n",
       "      <th>0</th>\n",
       "      <td>10-8-480(c) Littering on public way from a veh...</td>\n",
       "      <td>10000.0</td>\n",
       "    </tr>\n",
       "    <tr>\n",
       "      <th>20</th>\n",
       "      <td>8-8-060    Street solicitation within 500ft pa...</td>\n",
       "      <td>4000.0</td>\n",
       "    </tr>\n",
       "    <tr>\n",
       "      <th>6</th>\n",
       "      <td>2-14-135   Hit and Run</td>\n",
       "      <td>4000.0</td>\n",
       "    </tr>\n",
       "    <tr>\n",
       "      <th>5</th>\n",
       "      <td>2-14-135   Forfeitures, Investigations, Hit an...</td>\n",
       "      <td>4000.0</td>\n",
       "    </tr>\n",
       "    <tr>\n",
       "      <th>2</th>\n",
       "      <td>2-14-132(10)  Removal/Relocation of Vehicle Su...</td>\n",
       "      <td>4000.0</td>\n",
       "    </tr>\n",
       "    <tr>\n",
       "      <th>1</th>\n",
       "      <td>15-20-270    Unlawful fireworks in motor vehic...</td>\n",
       "      <td>3500.0</td>\n",
       "    </tr>\n",
       "    <tr>\n",
       "      <th>9</th>\n",
       "      <td>3-56-155 Counterfeit wheel tax license emblems</td>\n",
       "      <td>2000.0</td>\n",
       "    </tr>\n",
       "    <tr>\n",
       "      <th>18</th>\n",
       "      <td>8-4-130(c)    Possession of etching materials,...</td>\n",
       "      <td>2000.0</td>\n",
       "    </tr>\n",
       "    <tr>\n",
       "      <th>8</th>\n",
       "      <td>2-14-135  Forfeitures, Investigations, Hit and...</td>\n",
       "      <td>2000.0</td>\n",
       "    </tr>\n",
       "    <tr>\n",
       "      <th>15</th>\n",
       "      <td>8-20-010    Unlawful possession of firearm.</td>\n",
       "      <td>2000.0</td>\n",
       "    </tr>\n",
       "    <tr>\n",
       "      <th>14</th>\n",
       "      <td>7-28-440 Vehicle Impoundment - motor vehicle u...</td>\n",
       "      <td>1500.0</td>\n",
       "    </tr>\n",
       "    <tr>\n",
       "      <th>21</th>\n",
       "      <td>9-112-555    Impoundment of vehicle--Notificat...</td>\n",
       "      <td>1000.0</td>\n",
       "    </tr>\n",
       "    <tr>\n",
       "      <th>23</th>\n",
       "      <td>9-32-040 (a) Reckless Driving at, or interferi...</td>\n",
       "      <td>500.0</td>\n",
       "    </tr>\n",
       "    <tr>\n",
       "      <th>25</th>\n",
       "      <td>9-76-145(c)(1)   Broadcast or Recorded Sound R...</td>\n",
       "      <td>500.0</td>\n",
       "    </tr>\n",
       "    <tr>\n",
       "      <th>22</th>\n",
       "      <td>9-12-090      Drag Racing</td>\n",
       "      <td>0.0</td>\n",
       "    </tr>\n",
       "    <tr>\n",
       "      <th>4</th>\n",
       "      <td>2-14-135   Forfeiture</td>\n",
       "      <td>0.0</td>\n",
       "    </tr>\n",
       "    <tr>\n",
       "      <th>29</th>\n",
       "      <td>9-92-030(i) Arrestee</td>\n",
       "      <td>0.0</td>\n",
       "    </tr>\n",
       "  </tbody>\n",
       "</table>\n",
       "</div>"
      ],
      "text/plain": [
       "                                Violation Description  Imposed Fine Detailed\n",
       "27  9-80-240  Vehicle operated by persons with sus...             10731100.0\n",
       "11       7-24-225    Unlawful drugs in motor vehicle.              2656450.0\n",
       "12                                    7-24-226    DUI              1965300.0\n",
       "10  7-24-225    Unlawful drugs in motor vehicle wi...               517000.0\n",
       "13           7-24-226    DUI within 500ft park/school               416000.0\n",
       "26                       9-80-220    Altered Temp Tag               324000.0\n",
       "16   8-20-070  Unlawful firearm - Vehicle Impoundment               200150.0\n",
       "30  9-92-035    Authority to impound fleeing vehicle.               127000.0\n",
       "3   2-14-132(j)     Removal/Relocation of Vehicle ...                82500.0\n",
       "17  8-20-070  Unlawful firearm within 500ft park/s...                69000.0\n",
       "19               8-8-060    Street solicitation - VIP                41000.0\n",
       "7                            2-14-135   Investigation                35000.0\n",
       "24  9-76-145    Sound device restrictions--Violati...                14500.0\n",
       "28                            9-92-030(h) - Insurance                11000.0\n",
       "0   10-8-480(c) Littering on public way from a veh...                10000.0\n",
       "20  8-8-060    Street solicitation within 500ft pa...                 4000.0\n",
       "6                              2-14-135   Hit and Run                 4000.0\n",
       "5   2-14-135   Forfeitures, Investigations, Hit an...                 4000.0\n",
       "2   2-14-132(10)  Removal/Relocation of Vehicle Su...                 4000.0\n",
       "1   15-20-270    Unlawful fireworks in motor vehic...                 3500.0\n",
       "9      3-56-155 Counterfeit wheel tax license emblems                 2000.0\n",
       "18  8-4-130(c)    Possession of etching materials,...                 2000.0\n",
       "8   2-14-135  Forfeitures, Investigations, Hit and...                 2000.0\n",
       "15        8-20-010    Unlawful possession of firearm.                 2000.0\n",
       "14  7-28-440 Vehicle Impoundment - motor vehicle u...                 1500.0\n",
       "21  9-112-555    Impoundment of vehicle--Notificat...                 1000.0\n",
       "23  9-32-040 (a) Reckless Driving at, or interferi...                  500.0\n",
       "25  9-76-145(c)(1)   Broadcast or Recorded Sound R...                  500.0\n",
       "22                          9-12-090      Drag Racing                    0.0\n",
       "4                               2-14-135   Forfeiture                    0.0\n",
       "29                               9-92-030(i) Arrestee                    0.0"
      ]
     },
     "execution_count": 10,
     "metadata": {},
     "output_type": "execute_result"
    }
   ],
   "source": [
    "fine_totals"
   ]
  },
  {
   "cell_type": "code",
   "execution_count": 12,
   "metadata": {
    "collapsed": false
   },
   "outputs": [],
   "source": [
    "# export to fine_totals to csv for a pie chart\n",
    "fine_totals.to_csv(\"pie-data.csv\", index = False)"
   ]
  },
  {
   "cell_type": "code",
   "execution_count": 12,
   "metadata": {
    "collapsed": true
   },
   "outputs": [],
   "source": [
    "eighteen = df[df['Violation Date'] >= '2018-01-01']"
   ]
  },
  {
   "cell_type": "code",
   "execution_count": 13,
   "metadata": {
    "collapsed": false
   },
   "outputs": [
    {
     "data": {
      "text/plain": [
       "2223800.0"
      ]
     },
     "execution_count": 13,
     "metadata": {},
     "output_type": "execute_result"
    }
   ],
   "source": [
    "eighteen['Imposed Fine Detailed'].sum()"
   ]
  },
  {
   "cell_type": "code",
   "execution_count": 14,
   "metadata": {
    "collapsed": false
   },
   "outputs": [
    {
     "data": {
      "text/plain": [
       "3760"
      ]
     },
     "execution_count": 14,
     "metadata": {},
     "output_type": "execute_result"
    }
   ],
   "source": [
    "len(eighteen)"
   ]
  },
  {
   "cell_type": "code",
   "execution_count": null,
   "metadata": {
    "collapsed": true
   },
   "outputs": [],
   "source": []
  }
 ],
 "metadata": {
  "kernelspec": {
   "display_name": "Python 3",
   "language": "python",
   "name": "python3"
  },
  "language_info": {
   "codemirror_mode": {
    "name": "ipython",
    "version": 3
   },
   "file_extension": ".py",
   "mimetype": "text/x-python",
   "name": "python",
   "nbconvert_exporter": "python",
   "pygments_lexer": "ipython3",
   "version": "3.5.3"
  }
 },
 "nbformat": 4,
 "nbformat_minor": 0
}
