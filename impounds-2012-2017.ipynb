{
 "cells": [
  {
   "cell_type": "code",
   "execution_count": 124,
   "metadata": {
    "collapsed": true
   },
   "outputs": [],
   "source": [
    "# import libraries\n",
    "import pandas as pd\n",
    "import numpy as np\n",
    "import matplotlib.pyplot as plt\n",
    "from matplotlib.ticker import FuncFormatter\n",
    "plt.style.use('ggplot')\n",
    "\n",
    "%matplotlib inline"
   ]
  },
  {
   "cell_type": "code",
   "execution_count": 59,
   "metadata": {
    "collapsed": false
   },
   "outputs": [],
   "source": [
    "# read excel spreadsheet, pass to variable, peek at dataframe\n",
    "df = pd.read_excel('impounds12-17.xlsx')"
   ]
  },
  {
   "cell_type": "code",
   "execution_count": 60,
   "metadata": {
    "collapsed": false
   },
   "outputs": [
    {
     "data": {
      "text/html": [
       "<div>\n",
       "<table border=\"1\" class=\"dataframe\">\n",
       "  <thead>\n",
       "    <tr style=\"text-align: right;\">\n",
       "      <th></th>\n",
       "      <th>Unnamed: 0</th>\n",
       "      <th>Unnamed: 1</th>\n",
       "      <th>Unnamed: 2</th>\n",
       "      <th>Unnamed: 3</th>\n",
       "      <th>Unnamed: 4</th>\n",
       "      <th>Unnamed: 5</th>\n",
       "    </tr>\n",
       "  </thead>\n",
       "  <tbody>\n",
       "    <tr>\n",
       "      <th>0</th>\n",
       "      <td>NaN</td>\n",
       "      <td>NaN</td>\n",
       "      <td>NaN</td>\n",
       "      <td>NaN</td>\n",
       "      <td>NaN</td>\n",
       "      <td>NaN</td>\n",
       "    </tr>\n",
       "    <tr>\n",
       "      <th>1</th>\n",
       "      <td>NaN</td>\n",
       "      <td>Docket Number</td>\n",
       "      <td>MCV Description w/ Disposition</td>\n",
       "      <td>Violation Address</td>\n",
       "      <td>Violation Date</td>\n",
       "      <td>Imposed Fine Detailed</td>\n",
       "    </tr>\n",
       "    <tr>\n",
       "      <th>2</th>\n",
       "      <td>NaN</td>\n",
       "      <td>06VP009432</td>\n",
       "      <td>9-76-145    Sound device restrictions--Violati...</td>\n",
       "      <td>2150 N CALIFORNIA AVE</td>\n",
       "      <td>2016-05-17 00:00:00</td>\n",
       "      <td>500</td>\n",
       "    </tr>\n",
       "    <tr>\n",
       "      <th>3</th>\n",
       "      <td>NaN</td>\n",
       "      <td>08VP002119</td>\n",
       "      <td>7-24-225    Unlawful drugs in motor vehicle.</td>\n",
       "      <td>1160 N LARRABEE ST</td>\n",
       "      <td>2013-04-18 00:00:00</td>\n",
       "      <td>0</td>\n",
       "    </tr>\n",
       "    <tr>\n",
       "      <th>4</th>\n",
       "      <td>NaN</td>\n",
       "      <td>09VP011647</td>\n",
       "      <td>9-80-220    Altered Temp Tag</td>\n",
       "      <td>4805 W DEMING PL</td>\n",
       "      <td>2012-11-04 00:00:00</td>\n",
       "      <td>0</td>\n",
       "    </tr>\n",
       "  </tbody>\n",
       "</table>\n",
       "</div>"
      ],
      "text/plain": [
       "   Unnamed: 0     Unnamed: 1  \\\n",
       "0         NaN            NaN   \n",
       "1         NaN  Docket Number   \n",
       "2         NaN     06VP009432   \n",
       "3         NaN     08VP002119   \n",
       "4         NaN     09VP011647   \n",
       "\n",
       "                                          Unnamed: 2             Unnamed: 3  \\\n",
       "0                                                NaN                    NaN   \n",
       "1                     MCV Description w/ Disposition      Violation Address   \n",
       "2  9-76-145    Sound device restrictions--Violati...  2150 N CALIFORNIA AVE   \n",
       "3       7-24-225    Unlawful drugs in motor vehicle.     1160 N LARRABEE ST   \n",
       "4                       9-80-220    Altered Temp Tag       4805 W DEMING PL   \n",
       "\n",
       "            Unnamed: 4             Unnamed: 5  \n",
       "0                  NaN                    NaN  \n",
       "1       Violation Date  Imposed Fine Detailed  \n",
       "2  2016-05-17 00:00:00                    500  \n",
       "3  2013-04-18 00:00:00                      0  \n",
       "4  2012-11-04 00:00:00                      0  "
      ]
     },
     "execution_count": 60,
     "metadata": {},
     "output_type": "execute_result"
    }
   ],
   "source": [
    "df.head()"
   ]
  },
  {
   "cell_type": "code",
   "execution_count": 61,
   "metadata": {
    "collapsed": false
   },
   "outputs": [],
   "source": [
    "# clean up blank columns and rows\n",
    "df = df.drop(['Unnamed: 0'], axis=1)"
   ]
  },
  {
   "cell_type": "code",
   "execution_count": 62,
   "metadata": {
    "collapsed": false
   },
   "outputs": [],
   "source": [
    "df = df.drop([0])"
   ]
  },
  {
   "cell_type": "code",
   "execution_count": 63,
   "metadata": {
    "collapsed": false
   },
   "outputs": [],
   "source": [
    "columns = ['Docket Number', 'Violation Description', \n",
    "           'Violation Address', 'Violation Date', 'Imposed Fine Detailed' ]"
   ]
  },
  {
   "cell_type": "code",
   "execution_count": 64,
   "metadata": {
    "collapsed": false
   },
   "outputs": [],
   "source": [
    "df.columns = columns"
   ]
  },
  {
   "cell_type": "code",
   "execution_count": 65,
   "metadata": {
    "collapsed": false
   },
   "outputs": [],
   "source": [
    "df = df.drop(1)"
   ]
  },
  {
   "cell_type": "code",
   "execution_count": 66,
   "metadata": {
    "collapsed": false
   },
   "outputs": [
    {
     "data": {
      "text/html": [
       "<div>\n",
       "<table border=\"1\" class=\"dataframe\">\n",
       "  <thead>\n",
       "    <tr style=\"text-align: right;\">\n",
       "      <th></th>\n",
       "      <th>Docket Number</th>\n",
       "      <th>Violation Description</th>\n",
       "      <th>Violation Address</th>\n",
       "      <th>Violation Date</th>\n",
       "      <th>Imposed Fine Detailed</th>\n",
       "    </tr>\n",
       "  </thead>\n",
       "  <tbody>\n",
       "    <tr>\n",
       "      <th>2</th>\n",
       "      <td>06VP009432</td>\n",
       "      <td>9-76-145    Sound device restrictions--Violati...</td>\n",
       "      <td>2150 N CALIFORNIA AVE</td>\n",
       "      <td>2016-05-17 00:00:00</td>\n",
       "      <td>500</td>\n",
       "    </tr>\n",
       "    <tr>\n",
       "      <th>3</th>\n",
       "      <td>08VP002119</td>\n",
       "      <td>7-24-225    Unlawful drugs in motor vehicle.</td>\n",
       "      <td>1160 N LARRABEE ST</td>\n",
       "      <td>2013-04-18 00:00:00</td>\n",
       "      <td>0</td>\n",
       "    </tr>\n",
       "    <tr>\n",
       "      <th>4</th>\n",
       "      <td>09VP011647</td>\n",
       "      <td>9-80-220    Altered Temp Tag</td>\n",
       "      <td>4805 W DEMING PL</td>\n",
       "      <td>2012-11-04 00:00:00</td>\n",
       "      <td>0</td>\n",
       "    </tr>\n",
       "    <tr>\n",
       "      <th>5</th>\n",
       "      <td>12VP000155</td>\n",
       "      <td>9-80-240  Vehicle operated by persons with sus...</td>\n",
       "      <td>602 S KEDZIE AVE</td>\n",
       "      <td>2012-01-01 00:00:00</td>\n",
       "      <td>500</td>\n",
       "    </tr>\n",
       "    <tr>\n",
       "      <th>6</th>\n",
       "      <td>12VP000155</td>\n",
       "      <td>9-92-030(h) - Insurance</td>\n",
       "      <td>602 S KEDZIE AVE</td>\n",
       "      <td>2012-01-01 00:00:00</td>\n",
       "      <td>0</td>\n",
       "    </tr>\n",
       "  </tbody>\n",
       "</table>\n",
       "</div>"
      ],
      "text/plain": [
       "  Docket Number                              Violation Description  \\\n",
       "2    06VP009432  9-76-145    Sound device restrictions--Violati...   \n",
       "3    08VP002119       7-24-225    Unlawful drugs in motor vehicle.   \n",
       "4    09VP011647                       9-80-220    Altered Temp Tag   \n",
       "5    12VP000155  9-80-240  Vehicle operated by persons with sus...   \n",
       "6    12VP000155                            9-92-030(h) - Insurance   \n",
       "\n",
       "       Violation Address       Violation Date Imposed Fine Detailed  \n",
       "2  2150 N CALIFORNIA AVE  2016-05-17 00:00:00                   500  \n",
       "3     1160 N LARRABEE ST  2013-04-18 00:00:00                     0  \n",
       "4       4805 W DEMING PL  2012-11-04 00:00:00                     0  \n",
       "5       602 S KEDZIE AVE  2012-01-01 00:00:00                   500  \n",
       "6       602 S KEDZIE AVE  2012-01-01 00:00:00                     0  "
      ]
     },
     "execution_count": 66,
     "metadata": {},
     "output_type": "execute_result"
    }
   ],
   "source": [
    "df.head()"
   ]
  },
  {
   "cell_type": "code",
   "execution_count": 67,
   "metadata": {
    "collapsed": false
   },
   "outputs": [
    {
     "data": {
      "text/plain": [
       "114494000"
      ]
     },
     "execution_count": 67,
     "metadata": {},
     "output_type": "execute_result"
    }
   ],
   "source": [
    "# sum of fines imposed\n",
    "df['Imposed Fine Detailed'].sum()"
   ]
  },
  {
   "cell_type": "code",
   "execution_count": 68,
   "metadata": {
    "collapsed": false
   },
   "outputs": [
    {
     "data": {
      "text/plain": [
       "145503"
      ]
     },
     "execution_count": 68,
     "metadata": {},
     "output_type": "execute_result"
    }
   ],
   "source": [
    "# total number of charges\n",
    "len(df)"
   ]
  },
  {
   "cell_type": "code",
   "execution_count": 69,
   "metadata": {
    "collapsed": false
   },
   "outputs": [
    {
     "data": {
      "text/plain": [
       "108134"
      ]
     },
     "execution_count": 69,
     "metadata": {},
     "output_type": "execute_result"
    }
   ],
   "source": [
    "# find total number of unique cases\n",
    "len(df['Docket Number'].unique())"
   ]
  },
  {
   "cell_type": "code",
   "execution_count": 70,
   "metadata": {
    "collapsed": false
   },
   "outputs": [
    {
     "data": {
      "text/html": [
       "<div>\n",
       "<table border=\"1\" class=\"dataframe\">\n",
       "  <thead>\n",
       "    <tr style=\"text-align: right;\">\n",
       "      <th></th>\n",
       "      <th>Violation Description</th>\n",
       "      <th>Imposed Fine Detailed</th>\n",
       "    </tr>\n",
       "  </thead>\n",
       "  <tbody>\n",
       "    <tr>\n",
       "      <th>53</th>\n",
       "      <td>9-80-240  Vehicle operated by persons with sus...</td>\n",
       "      <td>47108500</td>\n",
       "    </tr>\n",
       "    <tr>\n",
       "      <th>20</th>\n",
       "      <td>7-24-225    Unlawful drugs in motor vehicle.</td>\n",
       "      <td>30201000</td>\n",
       "    </tr>\n",
       "    <tr>\n",
       "      <th>21</th>\n",
       "      <td>7-24-226    DUI</td>\n",
       "      <td>15625000</td>\n",
       "    </tr>\n",
       "    <tr>\n",
       "      <th>8</th>\n",
       "      <td>2-14-132(10)  Removal/Relocation of Vehicle Su...</td>\n",
       "      <td>6562000</td>\n",
       "    </tr>\n",
       "    <tr>\n",
       "      <th>19</th>\n",
       "      <td>7-24-225    Unlawful drugs in motor vehicle wi...</td>\n",
       "      <td>6094000</td>\n",
       "    </tr>\n",
       "    <tr>\n",
       "      <th>22</th>\n",
       "      <td>7-24-226    DUI within 500ft park/school</td>\n",
       "      <td>3150000</td>\n",
       "    </tr>\n",
       "    <tr>\n",
       "      <th>51</th>\n",
       "      <td>9-80-220    Altered Temp Tag</td>\n",
       "      <td>1616000</td>\n",
       "    </tr>\n",
       "    <tr>\n",
       "      <th>27</th>\n",
       "      <td>8-20-070  Unlawful firearm - Vehicle Impoundment</td>\n",
       "      <td>1289000</td>\n",
       "    </tr>\n",
       "    <tr>\n",
       "      <th>9</th>\n",
       "      <td>2-14-132(j)     Removal/Relocation of Vehicle ...</td>\n",
       "      <td>1069000</td>\n",
       "    </tr>\n",
       "    <tr>\n",
       "      <th>33</th>\n",
       "      <td>8-8-060    Street solicitation - VIP</td>\n",
       "      <td>658000</td>\n",
       "    </tr>\n",
       "    <tr>\n",
       "      <th>46</th>\n",
       "      <td>9-76-145    Sound device restrictions--Violati...</td>\n",
       "      <td>378000</td>\n",
       "    </tr>\n",
       "    <tr>\n",
       "      <th>28</th>\n",
       "      <td>8-20-070  Unlawful firearm within 500ft park/s...</td>\n",
       "      <td>297000</td>\n",
       "    </tr>\n",
       "    <tr>\n",
       "      <th>64</th>\n",
       "      <td>9-92-035    Authority to impound fleeing vehicle.</td>\n",
       "      <td>185000</td>\n",
       "    </tr>\n",
       "    <tr>\n",
       "      <th>34</th>\n",
       "      <td>8-8-060    Street solicitation within 500ft pa...</td>\n",
       "      <td>93000</td>\n",
       "    </tr>\n",
       "    <tr>\n",
       "      <th>35</th>\n",
       "      <td>8-8-060    Street solicitation.</td>\n",
       "      <td>80000</td>\n",
       "    </tr>\n",
       "    <tr>\n",
       "      <th>4</th>\n",
       "      <td>10-8-480(c) Littering on public way from a veh...</td>\n",
       "      <td>20650</td>\n",
       "    </tr>\n",
       "    <tr>\n",
       "      <th>25</th>\n",
       "      <td>7-28-440 Vehicle Impoundment - motor vehicle u...</td>\n",
       "      <td>9000</td>\n",
       "    </tr>\n",
       "    <tr>\n",
       "      <th>17</th>\n",
       "      <td>3-56-155 Counterfeit wheel tax license emblems</td>\n",
       "      <td>8000</td>\n",
       "    </tr>\n",
       "    <tr>\n",
       "      <th>32</th>\n",
       "      <td>8-4-130(c)    Possession of etching materials,...</td>\n",
       "      <td>7000</td>\n",
       "    </tr>\n",
       "    <tr>\n",
       "      <th>48</th>\n",
       "      <td>9-76-145(c)(1)   Broadcast or Recorded Sound R...</td>\n",
       "      <td>6500</td>\n",
       "    </tr>\n",
       "    <tr>\n",
       "      <th>41</th>\n",
       "      <td>9-12-090      Drag Racing</td>\n",
       "      <td>6000</td>\n",
       "    </tr>\n",
       "    <tr>\n",
       "      <th>31</th>\n",
       "      <td>8-4-130    Possession of etching materials, pa...</td>\n",
       "      <td>5000</td>\n",
       "    </tr>\n",
       "    <tr>\n",
       "      <th>6</th>\n",
       "      <td>15-20-270    Unlawful fireworks in motor vehic...</td>\n",
       "      <td>5000</td>\n",
       "    </tr>\n",
       "    <tr>\n",
       "      <th>52</th>\n",
       "      <td>9-80-225 Display of false, stolen or altered d...</td>\n",
       "      <td>4500</td>\n",
       "    </tr>\n",
       "    <tr>\n",
       "      <th>12</th>\n",
       "      <td>2-14-135   Forfeitures, Investigations, Hit an...</td>\n",
       "      <td>4000</td>\n",
       "    </tr>\n",
       "    <tr>\n",
       "      <th>37</th>\n",
       "      <td>9-112-555    Impoundment of vehicle--Notificat...</td>\n",
       "      <td>3000</td>\n",
       "    </tr>\n",
       "    <tr>\n",
       "      <th>42</th>\n",
       "      <td>9-32-040 (a) Reckless Driving at, or interferi...</td>\n",
       "      <td>2500</td>\n",
       "    </tr>\n",
       "    <tr>\n",
       "      <th>38</th>\n",
       "      <td>9-112-640  Impoundment of unlicensed Public Pa...</td>\n",
       "      <td>2000</td>\n",
       "    </tr>\n",
       "    <tr>\n",
       "      <th>7</th>\n",
       "      <td>2-14-132 (10)subpar  Unlawful Removal of Vehic...</td>\n",
       "      <td>2000</td>\n",
       "    </tr>\n",
       "    <tr>\n",
       "      <th>45</th>\n",
       "      <td>9-76-145    Sound device restrictions - Non-Ve...</td>\n",
       "      <td>1250</td>\n",
       "    </tr>\n",
       "    <tr>\n",
       "      <th>...</th>\n",
       "      <td>...</td>\n",
       "      <td>...</td>\n",
       "    </tr>\n",
       "    <tr>\n",
       "      <th>59</th>\n",
       "      <td>9-92-030(e) Metered Space Over 24 Hours</td>\n",
       "      <td>0</td>\n",
       "    </tr>\n",
       "    <tr>\n",
       "      <th>60</th>\n",
       "      <td>9-92-030(h) - Insurance</td>\n",
       "      <td>0</td>\n",
       "    </tr>\n",
       "    <tr>\n",
       "      <th>61</th>\n",
       "      <td>9-92-030(h) - Stolen</td>\n",
       "      <td>0</td>\n",
       "    </tr>\n",
       "    <tr>\n",
       "      <th>62</th>\n",
       "      <td>9-92-030(i) Arrestee</td>\n",
       "      <td>0</td>\n",
       "    </tr>\n",
       "    <tr>\n",
       "      <th>50</th>\n",
       "      <td>9-80-120    Unauthorized parking in public or ...</td>\n",
       "      <td>0</td>\n",
       "    </tr>\n",
       "    <tr>\n",
       "      <th>49</th>\n",
       "      <td>9-80-030(d)     No person shall cast, throw or...</td>\n",
       "      <td>0</td>\n",
       "    </tr>\n",
       "    <tr>\n",
       "      <th>65</th>\n",
       "      <td>9-92-080    Release procedure for impounded ve...</td>\n",
       "      <td>0</td>\n",
       "    </tr>\n",
       "    <tr>\n",
       "      <th>47</th>\n",
       "      <td>9-76-145(a)   Broadcast or Recorded Sound Rest...</td>\n",
       "      <td>0</td>\n",
       "    </tr>\n",
       "    <tr>\n",
       "      <th>56</th>\n",
       "      <td>9-92-030(b) Unattended - Hazard or Obstruction...</td>\n",
       "      <td>0</td>\n",
       "    </tr>\n",
       "    <tr>\n",
       "      <th>0</th>\n",
       "      <td>0000 - Non-matching violation received from ex...</td>\n",
       "      <td>0</td>\n",
       "    </tr>\n",
       "    <tr>\n",
       "      <th>44</th>\n",
       "      <td>9-64-150 Public Safety Restrictions</td>\n",
       "      <td>0</td>\n",
       "    </tr>\n",
       "    <tr>\n",
       "      <th>43</th>\n",
       "      <td>9-56-030    Duty upon striking fixtures or oth...</td>\n",
       "      <td>0</td>\n",
       "    </tr>\n",
       "    <tr>\n",
       "      <th>2</th>\n",
       "      <td>10-8-040    Temporary quiet zones.</td>\n",
       "      <td>0</td>\n",
       "    </tr>\n",
       "    <tr>\n",
       "      <th>3</th>\n",
       "      <td>10-8-480    Littering on public way or property.</td>\n",
       "      <td>0</td>\n",
       "    </tr>\n",
       "    <tr>\n",
       "      <th>5</th>\n",
       "      <td>15-20-150    Supervision of magazines.</td>\n",
       "      <td>0</td>\n",
       "    </tr>\n",
       "    <tr>\n",
       "      <th>11</th>\n",
       "      <td>2-14-135   Forfeiture</td>\n",
       "      <td>0</td>\n",
       "    </tr>\n",
       "    <tr>\n",
       "      <th>13</th>\n",
       "      <td>2-14-135   Hit and Run</td>\n",
       "      <td>0</td>\n",
       "    </tr>\n",
       "    <tr>\n",
       "      <th>14</th>\n",
       "      <td>2-14-135   Investigation</td>\n",
       "      <td>0</td>\n",
       "    </tr>\n",
       "    <tr>\n",
       "      <th>15</th>\n",
       "      <td>2-14-135  Forfeitures, Investigations, Hit and...</td>\n",
       "      <td>0</td>\n",
       "    </tr>\n",
       "    <tr>\n",
       "      <th>16</th>\n",
       "      <td>3-46-076      Unregistered Ground Transportation</td>\n",
       "      <td>0</td>\n",
       "    </tr>\n",
       "    <tr>\n",
       "      <th>18</th>\n",
       "      <td>7-24-099(a)     Cannabis - up to 15 grams</td>\n",
       "      <td>0</td>\n",
       "    </tr>\n",
       "    <tr>\n",
       "      <th>23</th>\n",
       "      <td>7-28-390    Commercial refuse company - dumpin...</td>\n",
       "      <td>0</td>\n",
       "    </tr>\n",
       "    <tr>\n",
       "      <th>26</th>\n",
       "      <td>8-20-010    Unlawful possession of firearm.</td>\n",
       "      <td>0</td>\n",
       "    </tr>\n",
       "    <tr>\n",
       "      <th>29</th>\n",
       "      <td>8-24-020    Carrying dangerous weapon</td>\n",
       "      <td>0</td>\n",
       "    </tr>\n",
       "    <tr>\n",
       "      <th>30</th>\n",
       "      <td>8-4-030(a)    Drinking in public way.</td>\n",
       "      <td>0</td>\n",
       "    </tr>\n",
       "    <tr>\n",
       "      <th>1</th>\n",
       "      <td>000001</td>\n",
       "      <td>0</td>\n",
       "    </tr>\n",
       "    <tr>\n",
       "      <th>36</th>\n",
       "      <td>9-100-120I(c) Scofflaw</td>\n",
       "      <td>0</td>\n",
       "    </tr>\n",
       "    <tr>\n",
       "      <th>39</th>\n",
       "      <td>9-114-020     License Required (Other Public P...</td>\n",
       "      <td>0</td>\n",
       "    </tr>\n",
       "    <tr>\n",
       "      <th>40</th>\n",
       "      <td>9-114-420  Impoundment of unlicensed Public Pa...</td>\n",
       "      <td>0</td>\n",
       "    </tr>\n",
       "    <tr>\n",
       "      <th>66</th>\n",
       "      <td>ILCS - no jurisdiction</td>\n",
       "      <td>0</td>\n",
       "    </tr>\n",
       "  </tbody>\n",
       "</table>\n",
       "<p>67 rows × 2 columns</p>\n",
       "</div>"
      ],
      "text/plain": [
       "                                Violation Description  Imposed Fine Detailed\n",
       "53  9-80-240  Vehicle operated by persons with sus...               47108500\n",
       "20       7-24-225    Unlawful drugs in motor vehicle.               30201000\n",
       "21                                    7-24-226    DUI               15625000\n",
       "8   2-14-132(10)  Removal/Relocation of Vehicle Su...                6562000\n",
       "19  7-24-225    Unlawful drugs in motor vehicle wi...                6094000\n",
       "22           7-24-226    DUI within 500ft park/school                3150000\n",
       "51                       9-80-220    Altered Temp Tag                1616000\n",
       "27   8-20-070  Unlawful firearm - Vehicle Impoundment                1289000\n",
       "9   2-14-132(j)     Removal/Relocation of Vehicle ...                1069000\n",
       "33               8-8-060    Street solicitation - VIP                 658000\n",
       "46  9-76-145    Sound device restrictions--Violati...                 378000\n",
       "28  8-20-070  Unlawful firearm within 500ft park/s...                 297000\n",
       "64  9-92-035    Authority to impound fleeing vehicle.                 185000\n",
       "34  8-8-060    Street solicitation within 500ft pa...                  93000\n",
       "35                    8-8-060    Street solicitation.                  80000\n",
       "4   10-8-480(c) Littering on public way from a veh...                  20650\n",
       "25  7-28-440 Vehicle Impoundment - motor vehicle u...                   9000\n",
       "17     3-56-155 Counterfeit wheel tax license emblems                   8000\n",
       "32  8-4-130(c)    Possession of etching materials,...                   7000\n",
       "48  9-76-145(c)(1)   Broadcast or Recorded Sound R...                   6500\n",
       "41                          9-12-090      Drag Racing                   6000\n",
       "31  8-4-130    Possession of etching materials, pa...                   5000\n",
       "6   15-20-270    Unlawful fireworks in motor vehic...                   5000\n",
       "52  9-80-225 Display of false, stolen or altered d...                   4500\n",
       "12  2-14-135   Forfeitures, Investigations, Hit an...                   4000\n",
       "37  9-112-555    Impoundment of vehicle--Notificat...                   3000\n",
       "42  9-32-040 (a) Reckless Driving at, or interferi...                   2500\n",
       "38  9-112-640  Impoundment of unlicensed Public Pa...                   2000\n",
       "7   2-14-132 (10)subpar  Unlawful Removal of Vehic...                   2000\n",
       "45  9-76-145    Sound device restrictions - Non-Ve...                   1250\n",
       "..                                                ...                    ...\n",
       "59            9-92-030(e) Metered Space Over 24 Hours                      0\n",
       "60                            9-92-030(h) - Insurance                      0\n",
       "61                               9-92-030(h) - Stolen                      0\n",
       "62                               9-92-030(i) Arrestee                      0\n",
       "50  9-80-120    Unauthorized parking in public or ...                      0\n",
       "49  9-80-030(d)     No person shall cast, throw or...                      0\n",
       "65  9-92-080    Release procedure for impounded ve...                      0\n",
       "47  9-76-145(a)   Broadcast or Recorded Sound Rest...                      0\n",
       "56  9-92-030(b) Unattended - Hazard or Obstruction...                      0\n",
       "0   0000 - Non-matching violation received from ex...                      0\n",
       "44                9-64-150 Public Safety Restrictions                      0\n",
       "43  9-56-030    Duty upon striking fixtures or oth...                      0\n",
       "2                  10-8-040    Temporary quiet zones.                      0\n",
       "3    10-8-480    Littering on public way or property.                      0\n",
       "5              15-20-150    Supervision of magazines.                      0\n",
       "11                              2-14-135   Forfeiture                      0\n",
       "13                             2-14-135   Hit and Run                      0\n",
       "14                           2-14-135   Investigation                      0\n",
       "15  2-14-135  Forfeitures, Investigations, Hit and...                      0\n",
       "16   3-46-076      Unregistered Ground Transportation                      0\n",
       "18          7-24-099(a)     Cannabis - up to 15 grams                      0\n",
       "23  7-28-390    Commercial refuse company - dumpin...                      0\n",
       "26        8-20-010    Unlawful possession of firearm.                      0\n",
       "29              8-24-020    Carrying dangerous weapon                      0\n",
       "30              8-4-030(a)    Drinking in public way.                      0\n",
       "1                                              000001                      0\n",
       "36                             9-100-120I(c) Scofflaw                      0\n",
       "39  9-114-020     License Required (Other Public P...                      0\n",
       "40  9-114-420  Impoundment of unlicensed Public Pa...                      0\n",
       "66                             ILCS - no jurisdiction                      0\n",
       "\n",
       "[67 rows x 2 columns]"
      ]
     },
     "execution_count": 70,
     "metadata": {},
     "output_type": "execute_result"
    }
   ],
   "source": [
    "# group by violation and find sum fines\n",
    "fine_totals = df.groupby(['Violation Description']\n",
    "          )['Imposed Fine Detailed'].sum().reset_index().sort_values('Imposed Fine Detailed', ascending=False)\n",
    "fine_totals"
   ]
  },
  {
   "cell_type": "code",
   "execution_count": 71,
   "metadata": {
    "collapsed": true
   },
   "outputs": [],
   "source": [
    "df['Violation Date'] = df['Violation Date'].astype(str)"
   ]
  },
  {
   "cell_type": "code",
   "execution_count": 78,
   "metadata": {
    "collapsed": false
   },
   "outputs": [],
   "source": [
    "# filter by year\n",
    "twelve = df[df['Violation Date'] <= '2012-12-31']\n",
    "thirteen = df[(df['Violation Date'] >= '2013-01-01') & (df['Violation Date'] <= '2013-12-31')]\n",
    "fourteen = df[(df['Violation Date'] >= '2014-01-01') & (df['Violation Date'] <= '2014-12-31')]\n",
    "fifteen = df[(df['Violation Date'] >= '2015-01-01') & (df['Violation Date'] <= '2015-12-31')]\n",
    "sixteen = df[(df['Violation Date'] >= '2016-01-01') & (df['Violation Date'] <= '2016-12-31')]\n",
    "seventeen = df[df['Violation Date'] >= '2017-01-01']"
   ]
  },
  {
   "cell_type": "code",
   "execution_count": 79,
   "metadata": {
    "collapsed": false
   },
   "outputs": [],
   "source": [
    "years = [twelve, thirteen, fourteen, fifteen, sixteen, seventeen]"
   ]
  },
  {
   "cell_type": "code",
   "execution_count": 102,
   "metadata": {
    "collapsed": false
   },
   "outputs": [
    {
     "name": "stdout",
     "output_type": "stream",
     "text": [
      "Total fines in 2012 - 23173350\n",
      "Total fines in 2013 - 20186750\n",
      "Total fines in 2014 - 19516400\n",
      "Total fines in 2015 - 17955800\n",
      "Total fines in 2016 - 16641200\n",
      "Total fines in 2017 - 16840500\n"
     ]
    }
   ],
   "source": [
    "# sum of fines imposed by year\n",
    "var = 2012\n",
    "for year in years:\n",
    "    print(\"Total fines in\", str(var), \"-\", year['Imposed Fine Detailed'].sum())\n",
    "    var += 1"
   ]
  },
  {
   "cell_type": "code",
   "execution_count": 129,
   "metadata": {
    "collapsed": false
   },
   "outputs": [
    {
     "data": {
      "image/png": "[encoded data removed]",
      "text/plain": [
       "<matplotlib.figure.Figure at 0x11d562358>"
      ]
     },
     "metadata": {},
     "output_type": "display_data"
    }
   ],
   "source": [
    "# let's make a line plot\n",
    "x = np.arange(6)\n",
    "year_totals = [23173350, 20186750, 19516400, 17955800, 16641200, 16840500]\n",
    "labels = ['2012', '2013', '2014', '2015', '2016', '2017']\n",
    "\n",
    "plt.title('Chicago Vehicle Impound Fines')\n",
    "plt.plot(x, year_totals)\n",
    "plt.ylabel('Fines Imposed in Millions of Dollars')\n",
    "plt.xticks(x, labels, rotation=45)\n",
    "plt.show()"
   ]
  },
  {
   "cell_type": "code",
   "execution_count": null,
   "metadata": {
    "collapsed": true
   },
   "outputs": [],
   "source": []
  }
 ],
 "metadata": {
  "kernelspec": {
   "display_name": "Python 3",
   "language": "python",
   "name": "python3"
  },
  "language_info": {
   "codemirror_mode": {
    "name": "ipython",
    "version": 3
   },
   "file_extension": ".py",
   "mimetype": "text/x-python",
   "name": "python",
   "nbconvert_exporter": "python",
   "pygments_lexer": "ipython3",
   "version": "3.5.3"
  }
 },
 "nbformat": 4,
 "nbformat_minor": 0
}
